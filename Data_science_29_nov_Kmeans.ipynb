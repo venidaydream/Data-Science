{
  "nbformat": 4,
  "nbformat_minor": 0,
  "metadata": {
    "colab": {
      "provenance": [],
      "authorship_tag": "ABX9TyNitgIRxaH1l6lAn1OxrYu6",
      "include_colab_link": true
    },
    "kernelspec": {
      "name": "python3",
      "display_name": "Python 3"
    },
    "language_info": {
      "name": "python"
    }
  },
  "cells": [
    {
      "cell_type": "markdown",
      "metadata": {
        "id": "view-in-github",
        "colab_type": "text"
      },
      "source": [
        "<a href=\"https://colab.research.google.com/github/venidaydream/Data-Science/blob/main/Data_science_29_nov_Kmeans.ipynb\" target=\"_parent\"><img src=\"https://colab.research.google.com/assets/colab-badge.svg\" alt=\"Open In Colab\"/></a>"
      ]
    },
    {
      "cell_type": "code",
      "execution_count": 4,
      "metadata": {
        "id": "0K0Txj500nUn"
      },
      "outputs": [],
      "source": [
        "import pandas as pd\n",
        "from sklearn.decomposition import PCA\n",
        "import numpy as np\n",
        "from sklearn.preprocessing import StandardScaler\n",
        "import matplotlib.pyplot as plt"
      ]
    },
    {
      "cell_type": "code",
      "source": [
        "#generar un conjunto de numeros aleatorios\n",
        "np.random.seed(123)\n",
        "datos = np.random.randn(20, 2)\n",
        "datos"
      ],
      "metadata": {
        "colab": {
          "base_uri": "https://localhost:8080/"
        },
        "id": "J9AdZOAx_Vgz",
        "outputId": "b23f50ce-8222-4406-8dcb-5b995e1a874d"
      },
      "execution_count": 6,
      "outputs": [
        {
          "output_type": "execute_result",
          "data": {
            "text/plain": [
              "array([[-1.0856306 ,  0.99734545],\n",
              "       [ 0.2829785 , -1.50629471],\n",
              "       [-0.57860025,  1.65143654],\n",
              "       [-2.42667924, -0.42891263],\n",
              "       [ 1.26593626, -0.8667404 ],\n",
              "       [-0.67888615, -0.09470897],\n",
              "       [ 1.49138963, -0.638902  ],\n",
              "       [-0.44398196, -0.43435128],\n",
              "       [ 2.20593008,  2.18678609],\n",
              "       [ 1.0040539 ,  0.3861864 ],\n",
              "       [ 0.73736858,  1.49073203],\n",
              "       [-0.93583387,  1.17582904],\n",
              "       [-1.25388067, -0.6377515 ],\n",
              "       [ 0.9071052 , -1.4286807 ],\n",
              "       [-0.14006872, -0.8617549 ],\n",
              "       [-0.25561937, -2.79858911],\n",
              "       [-1.7715331 , -0.69987723],\n",
              "       [ 0.92746243, -0.17363568],\n",
              "       [ 0.00284592,  0.68822271],\n",
              "       [-0.87953634,  0.28362732]])"
            ]
          },
          "metadata": {},
          "execution_count": 6
        }
      ]
    },
    {
      "cell_type": "code",
      "source": [
        "#calcular inertia\n",
        "\n",
        "centroid =np.mean(datos,axis=0)\n",
        "centroid"
      ],
      "metadata": {
        "colab": {
          "base_uri": "https://localhost:8080/"
        },
        "id": "zbbeVTLHAUNW",
        "outputId": "5f69cb20-0594-4cf1-9110-ef142f924d8a"
      },
      "execution_count": 7,
      "outputs": [
        {
          "output_type": "execute_result",
          "data": {
            "text/plain": [
              "array([-0.08125899, -0.08550168])"
            ]
          },
          "metadata": {},
          "execution_count": 7
        }
      ]
    },
    {
      "cell_type": "markdown",
      "source": [
        "# Paso 1 - centrando los datos"
      ],
      "metadata": {
        "id": "zZn6e3iBBUhg"
      }
    },
    {
      "cell_type": "code",
      "source": [
        "inertia=np.sum((datos-centroid)**2)\n",
        "inertia"
      ],
      "metadata": {
        "colab": {
          "base_uri": "https://localhost:8080/"
        },
        "id": "1Ega3SjMBDhB",
        "outputId": "b22d944c-4375-4fb2-b84b-3c3c5e433f7e"
      },
      "execution_count": 9,
      "outputs": [
        {
          "output_type": "execute_result",
          "data": {
            "text/plain": [
              "54.39924411487566"
            ]
          },
          "metadata": {},
          "execution_count": 9
        }
      ]
    },
    {
      "cell_type": "code",
      "source": [
        "#grafica\n",
        "plt.scatter(datos[:,0],datos[:,1], c='blue', marker = 'o', label = 'datos originales')\n",
        "plt.plot(centroid[0],centroid[1], 'or')\n",
        "plt.title('datos originales')\n",
        "plt.legend()\n",
        "plt.show()"
      ],
      "metadata": {
        "colab": {
          "base_uri": "https://localhost:8080/",
          "height": 452
        },
        "id": "9s1_WWR9BmOv",
        "outputId": "c885a0dd-2098-4806-82b4-1550d8ff146e"
      },
      "execution_count": 11,
      "outputs": [
        {
          "output_type": "display_data",
          "data": {
            "text/plain": [
              "<Figure size 640x480 with 1 Axes>"
            ],
            "image/png": "[encoded data removed]"
          },
          "metadata": {}
        }
      ]
    },
    {
      "cell_type": "markdown",
      "source": [
        "# Paso 2: seleccionar centroides aleatorios\n",
        "tres puntos aleatorios que sirveran como centros\n"
      ],
      "metadata": {
        "id": "59kP_3TKDjGA"
      }
    },
    {
      "cell_type": "code",
      "source": [
        "np.random.seed(567)\n",
        "sel=np.random.choice(range(len(datos)), 3)\n",
        "sel"
      ],
      "metadata": {
        "colab": {
          "base_uri": "https://localhost:8080/"
        },
        "id": "xDfagxkcDLmM",
        "outputId": "7e0630b2-81ce-4a9a-ec7f-0e23fa585c09"
      },
      "execution_count": 12,
      "outputs": [
        {
          "output_type": "execute_result",
          "data": {
            "text/plain": [
              "array([ 3, 15, 12])"
            ]
          },
          "metadata": {},
          "execution_count": 12
        }
      ]
    },
    {
      "cell_type": "code",
      "source": [
        "centroides_iniciales = datos[sel,:]\n",
        "centroides_iniciales"
      ],
      "metadata": {
        "colab": {
          "base_uri": "https://localhost:8080/"
        },
        "id": "fYWMhvybFLDF",
        "outputId": "3d1d42ba-5b26-40b8-e236-85d6ee710862"
      },
      "execution_count": 13,
      "outputs": [
        {
          "output_type": "execute_result",
          "data": {
            "text/plain": [
              "array([[-2.42667924, -0.42891263],\n",
              "       [-0.25561937, -2.79858911],\n",
              "       [-1.25388067, -0.6377515 ]])"
            ]
          },
          "metadata": {},
          "execution_count": 13
        }
      ]
    },
    {
      "cell_type": "markdown",
      "source": [
        "the same but shorter"
      ],
      "metadata": {
        "id": "iu8Z9kQ1IKs9"
      }
    },
    {
      "cell_type": "code",
      "source": [
        "np.random.seed(567)\n",
        "centroides_iniciales = datos[np.random.choice(range(len(datos)), 3),:]\n",
        "centroides_iniciales"
      ],
      "metadata": {
        "colab": {
          "base_uri": "https://localhost:8080/"
        },
        "id": "CUtACHyfF11e",
        "outputId": "2abefa76-74f9-4ade-d33e-eb24199fc298"
      },
      "execution_count": 14,
      "outputs": [
        {
          "output_type": "execute_result",
          "data": {
            "text/plain": [
              "array([[-2.42667924, -0.42891263],\n",
              "       [-0.25561937, -2.79858911],\n",
              "       [-1.25388067, -0.6377515 ]])"
            ]
          },
          "metadata": {},
          "execution_count": 14
        }
      ]
    },
    {
      "cell_type": "code",
      "source": [
        "#grafica\n",
        "plt.scatter(datos[:,0],datos[:,1], c='blue', marker = 'o', label = 'datos originales')\n",
        "plt.scatter(centroides_iniciales[:,0],centroides_iniciales[:,1], c='red', marker='x', label='centros')\n",
        "plt.title('datos originales con centroides')\n",
        "plt.legend()\n",
        "plt.show()"
      ],
      "metadata": {
        "colab": {
          "base_uri": "https://localhost:8080/",
          "height": 452
        },
        "id": "ya3eaiWxGkOw",
        "outputId": "349b7811-6cb8-47ee-ef4a-50ee541447f0"
      },
      "execution_count": 19,
      "outputs": [
        {
          "output_type": "display_data",
          "data": {
            "text/plain": [
              "<Figure size 640x480 with 1 Axes>"
            ],
            "image/png": "[encoded data removed]"
          },
          "metadata": {}
        }
      ]
    },
    {
      "cell_type": "markdown",
      "source": [
        "# Paso 3 - calcular las distancias"
      ],
      "metadata": {
        "id": "3GteWCDUIbA3"
      }
    },
    {
      "cell_type": "markdown",
      "source": [
        "        [1.95770875, 2.91598992, 2.78266933, 0.        , 3.7184812 ,\n",
        "        1.77945856, 3.92369204, 1.98270474, 5.32005159, 3.52623259,\n",
        "        3.70084237, 2.19039169, 1.19124732, 3.48046762, 2.32721725,\n",
        "        3.21385556, 0.70896987, 3.36384195, 2.67405757, 1.70333917] -> GRUPO 1"
      ],
      "metadata": {
        "id": "2O6dLutxJ4jg"
      }
    },
    {
      "cell_type": "markdown",
      "source": [
        "EL PRIMER PUNTO es el menor en el tercer grupo\n",
        "\n",
        "1.95770875 vs 3.88561935 vs 1.64373055"
      ],
      "metadata": {
        "id": "2Lz8-UnjKC1I"
      }
    },
    {
      "cell_type": "code",
      "source": [
        "distancia = np.linalg.norm(datos - centroides_iniciales[:,np.newaxis,:], axis=2)\n",
        "distancia"
      ],
      "metadata": {
        "colab": {
          "base_uri": "https://localhost:8080/"
        },
        "id": "TauifOPoHR1S",
        "outputId": "1d32d1fb-343c-4b16-ca35-9fff876c2eae"
      },
      "execution_count": 23,
      "outputs": [
        {
          "output_type": "execute_result",
          "data": {
            "text/plain": [
              "array([[1.95770875, 2.91598992, 2.78266933, 0.        , 3.7184812 ,\n",
              "        1.77945856, 3.92369204, 1.98270474, 5.32005159, 3.52623259,\n",
              "        3.70084237, 2.19039169, 1.19124732, 3.48046762, 2.32721725,\n",
              "        3.21385556, 0.70896987, 3.36384195, 2.67405757, 1.70333917],\n",
              "       [3.88561935, 1.40004016, 4.46173115, 3.21385556, 2.45909962,\n",
              "        2.73680883, 2.77782088, 2.37172953, 5.55996327, 3.42484624,\n",
              "        4.40276059, 4.03220677, 2.3802825 , 1.79682427, 1.940278  ,\n",
              "        0.        , 2.5889353 , 2.87924695, 3.49637826, 3.14473059],\n",
              "       [1.64373055, 1.76530547, 2.38671019, 1.19124732, 2.53020024,\n",
              "        0.79089436, 2.74527053, 0.83504944, 4.46635232, 2.47925741,\n",
              "        2.91470679, 1.84125722, 0.        , 2.30117989, 1.1361138 ,\n",
              "        2.3802825 , 0.5213671 , 2.23017067, 1.82690156, 0.9945213 ]])"
            ]
          },
          "metadata": {},
          "execution_count": 23
        }
      ]
    },
    {
      "cell_type": "markdown",
      "source": [
        "assign groups\n"
      ],
      "metadata": {
        "id": "phMAtuocK_Sk"
      }
    },
    {
      "cell_type": "code",
      "source": [
        "cluster_asignado = np.argmin(distancia,axis=0)\n",
        "cluster_asignado"
      ],
      "metadata": {
        "colab": {
          "base_uri": "https://localhost:8080/"
        },
        "id": "QoVfwNBVKUfu",
        "outputId": "4f0aa4ac-24a4-40d0-a9b5-b7eb93aee0f2"
      },
      "execution_count": 25,
      "outputs": [
        {
          "output_type": "execute_result",
          "data": {
            "text/plain": [
              "array([2, 1, 2, 0, 1, 2, 2, 2, 2, 2, 2, 2, 2, 1, 2, 1, 2, 2, 2, 2])"
            ]
          },
          "metadata": {},
          "execution_count": 25
        }
      ]
    },
    {
      "cell_type": "code",
      "source": [
        "#graficar segun cluster\n",
        "plt.scatter(datos[:,0],datos[:,1], c=cluster_asignado, marker = 'o', label = 'datos originales')\n",
        "plt.scatter(centroides_iniciales[:,0],centroides_iniciales[:,1], c='red', marker='x', label='centros')\n",
        "plt.title('datos con colores por cluster')\n",
        "plt.legend()\n",
        "plt.show()"
      ],
      "metadata": {
        "colab": {
          "base_uri": "https://localhost:8080/",
          "height": 452
        },
        "id": "N2p8BKcOLAqC",
        "outputId": "d2c6bbac-0018-4782-f20f-78cc95938cda"
      },
      "execution_count": 29,
      "outputs": [
        {
          "output_type": "display_data",
          "data": {
            "text/plain": [
              "<Figure size 640x480 with 1 Axes>"
            ],
            "image/png": "[encoded data removed]"
          },
          "metadata": {}
        }
      ]
    },
    {
      "cell_type": "code",
      "source": [
        "#calcular inertia de los nuevos grupos\n",
        "datos_cluster_0 = datos[cluster_asignado == 0]\n",
        "inertia0=np.sum((datos_cluster_0-centroides_iniciales[0])**2)\n",
        "inertia0"
      ],
      "metadata": {
        "colab": {
          "base_uri": "https://localhost:8080/"
        },
        "id": "PD8TYck9LkZA",
        "outputId": "b7d251e8-5c1a-4cba-cae1-8660a143badb"
      },
      "execution_count": 38,
      "outputs": [
        {
          "output_type": "execute_result",
          "data": {
            "text/plain": [
              "0.0"
            ]
          },
          "metadata": {},
          "execution_count": 38
        }
      ]
    },
    {
      "cell_type": "code",
      "source": [
        "#calcular inertia de los nuevos grupos\n",
        "datos_cluster_1 = datos[cluster_asignado == 1]\n",
        "inertia1=np.sum((datos_cluster_1-centroides_iniciales[1])**2)\n",
        "inertia1"
      ],
      "metadata": {
        "colab": {
          "base_uri": "https://localhost:8080/"
        },
        "id": "4aoI9BX6NQPI",
        "outputId": "2b12396d-1c6a-40f6-a8e4-83a454ae3b91"
      },
      "execution_count": 39,
      "outputs": [
        {
          "output_type": "execute_result",
          "data": {
            "text/plain": [
              "11.235860859235224"
            ]
          },
          "metadata": {},
          "execution_count": 39
        }
      ]
    },
    {
      "cell_type": "code",
      "source": [
        "#calcular inertia de los nuevos grupos\n",
        "datos_cluster_2 = datos[cluster_asignado == 2]\n",
        "inertia2=np.sum((datos_cluster_2-centroides_iniciales[2])**2)\n",
        "inertia2"
      ],
      "metadata": {
        "colab": {
          "base_uri": "https://localhost:8080/"
        },
        "id": "CkD-YxN6NUTp",
        "outputId": "992351da-3d0c-4bf5-81df-18195604ebf1"
      },
      "execution_count": 40,
      "outputs": [
        {
          "output_type": "execute_result",
          "data": {
            "text/plain": [
              "66.10121300009058"
            ]
          },
          "metadata": {},
          "execution_count": 40
        }
      ]
    },
    {
      "cell_type": "code",
      "source": [
        "inertia_nueva = inertia0+inertia1+inertia2\n",
        "inertia_nueva"
      ],
      "metadata": {
        "colab": {
          "base_uri": "https://localhost:8080/"
        },
        "id": "2TeG5NO6Nvb8",
        "outputId": "e163d061-606e-47d7-e195-71745e1f3348"
      },
      "execution_count": 41,
      "outputs": [
        {
          "output_type": "execute_result",
          "data": {
            "text/plain": [
              "77.33707385932581"
            ]
          },
          "metadata": {},
          "execution_count": 41
        }
      ]
    },
    {
      "cell_type": "markdown",
      "source": [
        "# Primera iteracion"
      ],
      "metadata": {
        "id": "7z4RQ8InPSF9"
      }
    },
    {
      "cell_type": "code",
      "source": [
        "#los nuevos centroides\n",
        "\n",
        "nuevos1_centroides = np.array([np.mean(datos[cluster_asignado==i], axis=0)\n",
        "                              for i in range(len(centroides_iniciales))])\n",
        "\n",
        "nuevos1_centroides"
      ],
      "metadata": {
        "colab": {
          "base_uri": "https://localhost:8080/"
        },
        "id": "erbaDVQcPWkX",
        "outputId": "302e4f72-fc8b-4cb3-e6c8-d1830e70888d"
      },
      "execution_count": 46,
      "outputs": [
        {
          "output_type": "execute_result",
          "data": {
            "text/plain": [
              "array([[-2.42667924, -0.42891263],\n",
              "       [ 0.55010015, -1.65007623],\n",
              "       [-0.09326008,  0.35461227]])"
            ]
          },
          "metadata": {},
          "execution_count": 46
        }
      ]
    },
    {
      "cell_type": "code",
      "source": [
        "#graficar segun cluster\n",
        "plt.scatter(datos[:,0],datos[:,1], c=cluster_asignado, marker = 'o', label = 'datos originales')\n",
        "plt.scatter(nuevos1_centroides[:,0],nuevos1_centroides[:,1], c='red', marker='x', label='centros')\n",
        "plt.title('datos con colores por cluster')\n",
        "plt.legend()\n",
        "plt.show()"
      ],
      "metadata": {
        "colab": {
          "base_uri": "https://localhost:8080/",
          "height": 452
        },
        "id": "-smtu-XISSNA",
        "outputId": "d7596ef9-4705-4faa-9726-45a1037b4c1a"
      },
      "execution_count": 47,
      "outputs": [
        {
          "output_type": "display_data",
          "data": {
            "text/plain": [
              "<Figure size 640x480 with 1 Axes>"
            ],
            "image/png": "[encoded data removed]"
          },
          "metadata": {}
        }
      ]
    },
    {
      "cell_type": "code",
      "source": [
        "distancias_nuevos1=np.linalg.norm(datos-nuevos1_centroides[:,np.newaxis,:], axis=2)\n",
        "distancias_nuevos1"
      ],
      "metadata": {
        "colab": {
          "base_uri": "https://localhost:8080/"
        },
        "id": "W11WdXRzSlkl",
        "outputId": "8726e8ae-f6dc-48d3-d17f-ccf182bb3bcb"
      },
      "execution_count": 51,
      "outputs": [
        {
          "output_type": "execute_result",
          "data": {
            "text/plain": [
              "array([[1.95770875, 2.91598992, 2.78266933, 0.        , 3.7184812 ,\n",
              "        1.77945856, 3.92369204, 1.98270474, 5.32005159, 3.52623259,\n",
              "        3.70084237, 2.19039169, 1.19124732, 3.48046762, 2.32721725,\n",
              "        3.21385556, 0.70896987, 3.36384195, 2.67405757, 1.70333917],\n",
              "       [3.11198596, 0.30335969, 3.48911896, 3.21752328, 1.0611486 ,\n",
              "        1.98231547, 1.38148443, 1.57040963, 4.17890958, 2.08625011,\n",
              "        3.14638618, 3.19276377, 2.06861019, 0.42008164, 1.04775168,\n",
              "        1.40294895, 2.50855717, 1.52390255, 2.40148478, 2.40480143],\n",
              "       [1.18233041, 1.89856005, 1.38466901, 2.4614541 , 1.8273251 ,\n",
              "        0.73813784, 1.87034362, 0.86340565, 2.93992114, 1.09776814,\n",
              "        1.40737773, 1.17657452, 1.52703176, 2.04471624, 1.21726748,\n",
              "        3.15737857, 1.98205663, 1.14931298, 0.3471776 , 0.78947402]])"
            ]
          },
          "metadata": {},
          "execution_count": 51
        }
      ]
    },
    {
      "cell_type": "code",
      "source": [
        "cluster_asignado2=np.argmin(distancias_nuevos1, axis=0)\n",
        "cluster_asignado2"
      ],
      "metadata": {
        "colab": {
          "base_uri": "https://localhost:8080/"
        },
        "id": "Za30sOiaSytz",
        "outputId": "493f7f91-53f6-44aa-e375-287ea5cdc3f3"
      },
      "execution_count": 52,
      "outputs": [
        {
          "output_type": "execute_result",
          "data": {
            "text/plain": [
              "array([2, 1, 2, 0, 1, 2, 1, 2, 2, 2, 2, 2, 0, 1, 1, 1, 0, 2, 2, 2])"
            ]
          },
          "metadata": {},
          "execution_count": 52
        }
      ]
    },
    {
      "cell_type": "code",
      "source": [
        "#graficar segun cluster\n",
        "plt.scatter(datos[:,0],datos[:,1], c=cluster_asignado2, marker = 'o', label = 'datos originales')\n",
        "plt.scatter(nuevos1_centroides[:,0],nuevos1_centroides[:,1], c='red', marker='x', label='centros')\n",
        "plt.title('datos con colores por cluster')\n",
        "plt.legend()\n",
        "plt.show()"
      ],
      "metadata": {
        "colab": {
          "base_uri": "https://localhost:8080/",
          "height": 452
        },
        "id": "q2z0aUkSTLew",
        "outputId": "f06e15dd-3611-4fb1-e01a-c86c2641606b"
      },
      "execution_count": 54,
      "outputs": [
        {
          "output_type": "display_data",
          "data": {
            "text/plain": [
              "<Figure size 640x480 with 1 Axes>"
            ],
            "image/png": "[encoded data removed]"
          },
          "metadata": {}
        }
      ]
    }
  ]
}